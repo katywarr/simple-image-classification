{
 "cells": [
  {
   "cell_type": "markdown",
   "metadata": {},
   "source": [
    "# Image classification using ResNet50\n",
    "\n",
    "This notebook illustrates how to perform image classification using ResNet50 and demonstrate adversarial examples.\n"
   ]
  },
  {
   "cell_type": "code",
   "execution_count": 1,
   "metadata": {},
   "outputs": [
    {
     "name": "stderr",
     "output_type": "stream",
     "text": [
      "Using TensorFlow backend.\n"
     ]
    },
    {
     "name": "stdout",
     "output_type": "stream",
     "text": [
      "A local file was found, but it seems to be incomplete or outdated because the md5 file hash does not match the original value of a7b3fe01876f51b976af0dea6bc144eb so we will re-download the data.\n",
      "Downloading data from https://github.com/fchollet/deep-learning-models/releases/download/v0.2/resnet50_weights_tf_dim_ordering_tf_kernels.h5\n",
      "102858752/102853048 [==============================] - 14s 0us/step\n"
     ]
    }
   ],
   "source": [
    "# Import the model\n",
    "import tensorflow as tf\n",
    "import keras\n",
    "from keras.applications.resnet50 import ResNet50\n",
    "from keras.applications.resnet50 import preprocess_input, decode_predictions\n",
    "from keras.preprocessing import image as image\n",
    "from keras.preprocessing.image import img_to_array\n",
    "\n",
    "\n",
    "# NumPy for manipulating images as multi-dimensional arrays\n",
    "import numpy as np\n",
    "# PyPlot for plotting\n",
    "import matplotlib.pyplot as plt\n",
    "# ResNet50 model\n",
    "model = ResNet50(weights='imagenet')"
   ]
  },
  {
   "cell_type": "markdown",
   "metadata": {},
   "source": [
    "## Helper method to display the results"
   ]
  },
  {
   "cell_type": "code",
   "execution_count": 2,
   "metadata": {},
   "outputs": [],
   "source": [
    "def get_bar_chart(img, predictions):\n",
    "    \n",
    "    transpose_predictions = np.transpose(predictions)\n",
    "    classifications = transpose_predictions[1]\n",
    "    values = transpose_predictions[2].astype(np.float)\n",
    "    print('Predictions: ', predictions)\n",
    "    \n",
    "    fig, (ax1, ax2) = plt.subplots(1, 2, figsize=(12,6))\n",
    "    plt.subplots_adjust(left=None, bottom=None, right=None, top=None, wspace=5, hspace=None)\n",
    "    ax1.imshow(img)\n",
    "    y_pos = np.arange(len(classifications))\n",
    "    ax2.barh(y_pos, values, align='center')\n",
    "    ax2.set_xlabel('Prediction')\n",
    "    ax2.set_yticks(y_pos)\n",
    "    ax2.set_yticklabels(classifications)\n",
    "    ax2.invert_yaxis()\n",
    "    plt.tight_layout()"
   ]
  },
  {
   "cell_type": "markdown",
   "metadata": {},
   "source": [
    "## Load an image and show predictions"
   ]
  },
  {
   "cell_type": "code",
   "execution_count": 2,
   "metadata": {},
   "outputs": [
    {
     "ename": "NameError",
     "evalue": "name 'model' is not defined",
     "output_type": "error",
     "traceback": [
      "\u001b[1;31m---------------------------------------------------------------------------\u001b[0m",
      "\u001b[1;31mNameError\u001b[0m                                 Traceback (most recent call last)",
      "\u001b[1;32m<ipython-input-2-a65fbe4da60e>\u001b[0m in \u001b[0;36m<module>\u001b[1;34m\u001b[0m\n\u001b[0;32m     10\u001b[0m \u001b[0mimage_for_resnet\u001b[0m \u001b[1;33m=\u001b[0m \u001b[0mpreprocess_input\u001b[0m\u001b[1;33m(\u001b[0m\u001b[0mimage_np_exp\u001b[0m\u001b[1;33m)\u001b[0m\u001b[1;33m\u001b[0m\u001b[1;33m\u001b[0m\u001b[0m\n\u001b[0;32m     11\u001b[0m \u001b[1;33m\u001b[0m\u001b[0m\n\u001b[1;32m---> 12\u001b[1;33m \u001b[0mpredictions\u001b[0m \u001b[1;33m=\u001b[0m \u001b[0mdecode_predictions\u001b[0m\u001b[1;33m(\u001b[0m\u001b[0mmodel\u001b[0m\u001b[1;33m.\u001b[0m\u001b[0mpredict\u001b[0m\u001b[1;33m(\u001b[0m\u001b[0mimage_for_resnet\u001b[0m\u001b[1;33m)\u001b[0m\u001b[1;33m,\u001b[0m \u001b[0mtop\u001b[0m\u001b[1;33m=\u001b[0m\u001b[1;36m5\u001b[0m\u001b[1;33m)\u001b[0m\u001b[1;33m[\u001b[0m\u001b[1;36m0\u001b[0m\u001b[1;33m]\u001b[0m\u001b[1;33m\u001b[0m\u001b[1;33m\u001b[0m\u001b[0m\n\u001b[0m\u001b[0;32m     13\u001b[0m \u001b[0mget_bar_chart\u001b[0m\u001b[1;33m(\u001b[0m\u001b[0mimg\u001b[0m\u001b[1;33m,\u001b[0m \u001b[0mpredictions\u001b[0m\u001b[1;33m)\u001b[0m\u001b[1;33m\u001b[0m\u001b[1;33m\u001b[0m\u001b[0m\n",
      "\u001b[1;31mNameError\u001b[0m: name 'model' is not defined"
     ]
    }
   ],
   "source": [
    "# Get a new image\n",
    "# image_path = 'images/koala.jpg'\n",
    "# image_path = 'images/koala_with_ball.png'\n",
    "image_path = 'images/koala_with_ball_adv_1.png'\n",
    "\n",
    "# Prepare image for passing to ResNet50\n",
    "img = keras.preprocessing.image.load_img(image_path, target_size = [224, 224])\n",
    "img_np = keras.preprocessing.image.img_to_array(img)\n",
    "image_np_exp = np.expand_dims(img_np, axis=0)\n",
    "image_for_resnet = preprocess_input(image_np_exp) \n",
    "\n",
    "predictions = decode_predictions(model.predict(image_for_resnet), top=5)[0]\n",
    "get_bar_chart(img, predictions)"
   ]
  },
  {
   "cell_type": "code",
   "execution_count": null,
   "metadata": {},
   "outputs": [],
   "source": []
  }
 ],
 "metadata": {
  "kernelspec": {
   "display_name": "Python (simple-image-classification)",
   "language": "python",
   "name": "simple-image-classification"
  },
  "language_info": {
   "codemirror_mode": {
    "name": "ipython",
    "version": 3
   },
   "file_extension": ".py",
   "mimetype": "text/x-python",
   "name": "python",
   "nbconvert_exporter": "python",
   "pygments_lexer": "ipython3",
   "version": "3.7.7"
  }
 },
 "nbformat": 4,
 "nbformat_minor": 4
}
